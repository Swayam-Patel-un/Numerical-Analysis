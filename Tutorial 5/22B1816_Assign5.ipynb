{
 "cells": [
  {
   "cell_type": "code",
   "execution_count": 1,
   "metadata": {},
   "outputs": [],
   "source": [
    "import numpy as np\n",
    "import random as rd\n",
    "import math\n",
    "import matplotlib.pyplot as plt"
   ]
  },
  {
   "cell_type": "code",
   "execution_count": 2,
   "metadata": {},
   "outputs": [],
   "source": [
    "def w(x):\n",
    "    return np.exp(x**2)-1\n",
    "seed=rd.randint(0,100)\n",
    "def RNG(c):\n",
    "    if(c=='y' or c=='Y'):\n",
    "        global seed\n",
    "        a=math.pow(7,5)\n",
    "        b=0\n",
    "        m=math.pow(2,31)\n",
    "        seed=(seed*a+b)%m\n",
    "        return(seed/m)\n",
    "    else:\n",
    "        return rd.random()\n",
    "def g(x):\n",
    "    return x**2/(np.exp(x**2)-1)"
   ]
  },
  {
   "cell_type": "code",
   "execution_count": 3,
   "metadata": {},
   "outputs": [],
   "source": [
    "def sampling(M,c):\n",
    "    xs=np.zeros(M+1)\n",
    "    x0=rd.uniform(0,1)\n",
    "    xs[0]=x0\n",
    "    d=0.4\n",
    "    count=0\n",
    "    acc_n=rd.uniform(0,1)\n",
    "    while(count<M):\n",
    "        dx=d*(2*RNG(c)-1)\n",
    "        xi=xs[count]+dx\n",
    "        if(0<xi and xi<1 and (w(xi)/w(xs[count]))>acc_n):\n",
    "            xs[count+1]=xi\n",
    "            count+=1\n",
    "   # ws=[w(x) for x in xs]\n",
    "    #plt.hist(xs)\n",
    "    return xs[M-1]\n",
    "\n",
    "def avg_val(N,M,c):\n",
    "    sam=np.zeros(N)\n",
    "    for i in range(N):\n",
    "        sam[i]=sampling(M,c)\n",
    "    sam=np.array(sam)\n",
    "    \n",
    "    return np.mean([g(x) for x in sam])\n",
    "\n",
    "\n",
    "def metro(N,M,c):\n",
    "    Z = 0.46265167\n",
    "    return Z*avg_val(N,M,c)\n",
    "    \n",
    "    "
   ]
  },
  {
   "cell_type": "code",
   "execution_count": 4,
   "metadata": {},
   "outputs": [],
   "source": [
    "def main():\n",
    "    c=input(\"Do you want a custom random gereator or system's random module? Enter 'Y' or 'y' for custom.\")\n",
    "    N_values = [10, 100, 1000, 10000, 100000]\n",
    "\n",
    "    for N in N_values:\n",
    "        Inte=metro(N,15,c)\n",
    "        print(\"For N being \",N,\" the intergal value is \",Inte)"
   ]
  },
  {
   "cell_type": "code",
   "execution_count": 5,
   "metadata": {},
   "outputs": [
    {
     "name": "stdout",
     "output_type": "stream",
     "text": [
      "For N being  10  the intergal value is  0.31434893557857363\n",
      "For N being  100  the intergal value is  0.3244698313175716\n",
      "For N being  1000  the intergal value is  0.33349186812722614\n",
      "For N being  10000  the intergal value is  0.32985910142673375\n",
      "For N being  100000  the intergal value is  0.3306638325123196\n"
     ]
    }
   ],
   "source": [
    "main()"
   ]
  }
 ],
 "metadata": {
  "kernelspec": {
   "display_name": "Python 3",
   "language": "python",
   "name": "python3"
  },
  "language_info": {
   "codemirror_mode": {
    "name": "ipython",
    "version": 3
   },
   "file_extension": ".py",
   "mimetype": "text/x-python",
   "name": "python",
   "nbconvert_exporter": "python",
   "pygments_lexer": "ipython3",
   "version": "3.11.9"
  }
 },
 "nbformat": 4,
 "nbformat_minor": 2
}
