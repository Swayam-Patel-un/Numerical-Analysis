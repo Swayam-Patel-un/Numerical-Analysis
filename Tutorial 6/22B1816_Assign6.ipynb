{
 "cells": [
  {
   "cell_type": "code",
   "execution_count": 41,
   "metadata": {},
   "outputs": [],
   "source": [
    "import numpy as np\n",
    "import pandas as pd\n",
    "import matplotlib.pyplot as plt"
   ]
  },
  {
   "cell_type": "code",
   "execution_count": 42,
   "metadata": {},
   "outputs": [],
   "source": [
    "def f(x,y):\n",
    "    return x+y\n",
    "def soln(x):\n",
    "    return np.exp(x)-x-1"
   ]
  },
  {
   "cell_type": "code",
   "execution_count": 43,
   "metadata": {},
   "outputs": [],
   "source": [
    "def euler(x,h):\n",
    "    y=np.zeros(len(x))\n",
    "    for i in range(1,len(x)):\n",
    "        y[i]=y[i-1]+h*f(x[i-1],y[i-1])\n",
    "    return y"
   ]
  },
  {
   "cell_type": "code",
   "execution_count": 44,
   "metadata": {},
   "outputs": [],
   "source": [
    "def taylor(x,h):\n",
    "    y=np.zeros(len(x))\n",
    "    for i in range(1,len(x)):\n",
    "        y1=f(x[i-1],y[i-1])\n",
    "        y2=1+f(x[i-1],y[i-1])\n",
    "        y3=1+f(x[i-1],y[i-1])\n",
    "        y4=1+f(x[i-1],y[i-1])\n",
    "        y[i]=y[i-1]+(y1*h)+(y2*h*h)/2+(y3*h*h*h)/6+(y4*h*h*h*h)/24\n",
    "    return y\n"
   ]
  },
  {
   "cell_type": "code",
   "execution_count": 45,
   "metadata": {},
   "outputs": [],
   "source": [
    "def rk(x,h):\n",
    "    y = np.zeros(len(x))\n",
    "    for i in range(1, len(x)):\n",
    "        k0=h*f(x[i-1],y[i-1])\n",
    "        k1=h*f(x[i-1]+h/2,y[i-1]+k0/2)\n",
    "        k2=h*f(x[i-1]+h/2,y[i-1]+k1/2)\n",
    "        k3=h*f(x[i-1]+h,y[i-1]+k2)\n",
    "        y[i]=y[i-1]+(k0+2*k1+2*k2+k3)/6\n",
    "    return y"
   ]
  },
  {
   "cell_type": "code",
   "execution_count": 46,
   "metadata": {},
   "outputs": [],
   "source": [
    "def tabular(x,y1,y2):\n",
    "    data={\n",
    "        \"Number\" : x,\n",
    "        \"Exact Solution\" : y1,\n",
    "        \"Soltion from Numerical Method\" :y2\n",
    "    }\n",
    "    df=pd.DataFrame(data)\n",
    "    plt.plot(x, y1, label = \"Exact Solution\")\n",
    "    plt.scatter(x, y2, c='r', label = \"Solution via Numerical Method\")\n",
    "    plt.legend()\n",
    "    plt.show()\n",
    "    return df"
   ]
  },
  {
   "cell_type": "code",
   "execution_count": 47,
   "metadata": {},
   "outputs": [],
   "source": [
    "def main():\n",
    "    h=float(input(\"Enter the inverval you want:\"))\n",
    "    xm=float(input(\"Enter the  maximum x you want:\"))\n",
    "    print(\"Options for methods:\")\n",
    "    print(\"1 for Euler's Method.\\n2 for Fourth order Taylor's expansion.\\n3 for Fourth order Runge Kutta.\")\n",
    "    c=input(\"Enter your choice:\")\n",
    "    x=[]\n",
    "    i=0\n",
    "    while(h*i<=xm):\n",
    "        x.append(h*i)\n",
    "        i+=1\n",
    "    ye=np.array([soln(xi) for xi in x])\n",
    "    if c=='1':\n",
    "        y=euler(x,h)\n",
    "        print(tabular(x,ye,y))\n",
    "    elif c=='2':\n",
    "        y=taylor(x,h)\n",
    "        print(tabular(x,ye,y))\n",
    "    elif c=='3':\n",
    "        y=rk(x,h)\n",
    "        print(tabular(x,ye,y))\n",
    "    else:\n",
    "        print(\"Invalid choice.\")"
   ]
  },
  {
   "cell_type": "code",
   "execution_count": 48,
   "metadata": {},
   "outputs": [
    {
     "name": "stdout",
     "output_type": "stream",
     "text": [
      "Options for methods:\n",
      "1 for Euler's Method.\n",
      "2 for Fourth order Taylor's expansion.\n",
      "3 for Fourth order Runge Kutta.\n"
     ]
    },
    {
     "data": {
      "image/png": "[encoded data removed]",
      "text/plain": [
       "<Figure size 640x480 with 1 Axes>"
      ]
     },
     "metadata": {},
     "output_type": "display_data"
    },
    {
     "name": "stdout",
     "output_type": "stream",
     "text": [
      "   Number  Exact Solution  Soltion from Numerical Method\n",
      "0     0.0        0.000000                       0.000000\n",
      "1     0.6        0.222119                       0.221400\n",
      "2     1.2        1.120117                       1.117498\n",
      "3     1.8        3.249647                       3.242491\n",
      "4     2.4        7.623176                       7.605793\n",
      "5     3.0       16.085537                      16.045951\n",
      "6     3.6       31.998234                      31.911695\n"
     ]
    }
   ],
   "source": [
    "main()"
   ]
  }
 ],
 "metadata": {
  "kernelspec": {
   "display_name": "Python 3",
   "language": "python",
   "name": "python3"
  },
  "language_info": {
   "codemirror_mode": {
    "name": "ipython",
    "version": 3
   },
   "file_extension": ".py",
   "mimetype": "text/x-python",
   "name": "python",
   "nbconvert_exporter": "python",
   "pygments_lexer": "ipython3",
   "version": "3.11.9"
  }
 },
 "nbformat": 4,
 "nbformat_minor": 2
}
