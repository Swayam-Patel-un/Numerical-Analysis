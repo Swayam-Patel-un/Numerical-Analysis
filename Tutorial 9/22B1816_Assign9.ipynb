{
 "cells": [
  {
   "cell_type": "code",
   "execution_count": 65,
   "metadata": {},
   "outputs": [],
   "source": [
    "import numpy as np"
   ]
  },
  {
   "cell_type": "code",
   "execution_count": 66,
   "metadata": {},
   "outputs": [],
   "source": [
    "def usin():\n",
    "    n=int(input(\"Enter the n of the coefficent materix (i.e nxn dimension):\"))\n",
    "    A=np.zeros((n,n))\n",
    "    b=np.zeros(n)\n",
    "    for i in range(n):\n",
    "        for j in range(n):\n",
    "            A[i][j]=float(input(f\"Enter the ({i+1},{j+1}) term of coefficent matrix:\"))\n",
    "    for i in range(n):\n",
    "        b[i]=float(input(f\"Enter the {i+1} term of the column matrix:\"))\n",
    "    return A,b,n"
   ]
  },
  {
   "cell_type": "code",
   "execution_count": 67,
   "metadata": {},
   "outputs": [],
   "source": [
    "def gaussel(A,b,n):\n",
    "    X=np.zeros(n)\n",
    "    for k in range(n-1):\n",
    "        for i in range(k+1,n):\n",
    "            xmult=A[i][k]/A[k][k]\n",
    "            A[i][k]=xmult\n",
    "            for j in range(k+1,n):\n",
    "                A[i][j]=A[i][j]-xmult*A[k][j]\n",
    "            b[i]=b[i]-xmult*b[k]\n",
    "    X[n-1]=b[n-1]/A[n-1][n-1]\n",
    "    for i in range(n-2,-1,-1):\n",
    "        sum=b[i]\n",
    "        for j in range(i+1,n):\n",
    "            sum=sum-(A[i][j]*X[j])\n",
    "        X[i]=sum/A[i][i]\n",
    "    return X"
   ]
  },
  {
   "cell_type": "code",
   "execution_count": 68,
   "metadata": {},
   "outputs": [],
   "source": [
    "def main():\n",
    "    A,b,n=usin()\n",
    "    print(\"The coefficent Matrix is:\")\n",
    "    for i in range(n):\n",
    "        for j in range(n):\n",
    "            print(A[i][j], end =\" \")\n",
    "        print()\n",
    "    print(\"The constant vector is:\")\n",
    "    for i in range(n):\n",
    "        print(b[i])\n",
    "    X=gaussel(A,b,n)\n",
    "    print(\"The solution vector is:\")\n",
    "    for i in range(n):\n",
    "        print(X[i])"
   ]
  },
  {
   "cell_type": "code",
   "execution_count": 73,
   "metadata": {},
   "outputs": [
    {
     "name": "stdout",
     "output_type": "stream",
     "text": [
      "The coefficent Matrix is:\n",
      "3.0 -1.0 1.0 2.0 \n",
      "6.0 -4.0 3.0 5.0 \n",
      "3.0 -13.0 9.0 3.0 \n",
      "-6.0 4.0 1.0 -18.0 \n",
      "The constant vector is:\n",
      "8.0\n",
      "13.0\n",
      "-19.0\n",
      "-34\n",
      "The solution vector is:\n",
      "3.0\n",
      "1.0\n",
      "-2.0\n",
      "1.0\n"
     ]
    }
   ],
   "source": [
    "#This is for checking the particular A and b.\n",
    "A=[[3.0,-1.0,1.0,2.0],[6.0,-4.0,3.0,5.0],[3.0,-13.0,9.0,3.0],[-6.0,4.0,1.0,-18.0]]\n",
    "b=[8.0,13.0,-19.0,-34]\n",
    "print(\"The coefficent Matrix is:\")\n",
    "for i in range(4):\n",
    "    for j in range(4):\n",
    "        print(A[i][j], end =\" \")\n",
    "    print()\n",
    "print(\"The constant vector is:\")\n",
    "for i in range(4):\n",
    "    print(b[i])\n",
    "X=gaussel(A,b,4)\n",
    "print(\"The solution vector is:\")\n",
    "for i in range(4):\n",
    "    print(X[i])"
   ]
  },
  {
   "cell_type": "code",
   "execution_count": 69,
   "metadata": {},
   "outputs": [
    {
     "name": "stdout",
     "output_type": "stream",
     "text": [
      "The coefficent Matrix is:\n",
      "3.0 -1.0 1.0 2.0 \n",
      "6.0 -4.0 3.0 5.0 \n",
      "3.0 -13.0 9.0 3.0 \n",
      "-6.0 4.0 1.0 -18.0 \n",
      "The constant vector is:\n",
      "8.0\n",
      "13.0\n",
      "-19.0\n",
      "-34.0\n",
      "The solution vector is:\n",
      "3.0\n",
      "1.0\n",
      "-2.0\n",
      "1.0\n"
     ]
    }
   ],
   "source": [
    "#This is for general A and b\n",
    "main()"
   ]
  }
 ],
 "metadata": {
  "kernelspec": {
   "display_name": "Python 3",
   "language": "python",
   "name": "python3"
  },
  "language_info": {
   "codemirror_mode": {
    "name": "ipython",
    "version": 3
   },
   "file_extension": ".py",
   "mimetype": "text/x-python",
   "name": "python",
   "nbconvert_exporter": "python",
   "pygments_lexer": "ipython3",
   "version": "3.11.9"
  }
 },
 "nbformat": 4,
 "nbformat_minor": 2
}
