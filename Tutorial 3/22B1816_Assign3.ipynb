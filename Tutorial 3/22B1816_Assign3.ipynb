{
 "cells": [
  {
   "cell_type": "code",
   "execution_count": 9,
   "metadata": {},
   "outputs": [],
   "source": [
    "import numpy as np\n",
    "import math as m"
   ]
  },
  {
   "cell_type": "code",
   "execution_count": 10,
   "metadata": {},
   "outputs": [],
   "source": [
    "def f(x,c):\n",
    "    if c==1:\n",
    "        return m.sin(x)\n",
    "    elif c==2:\n",
    "        return m.exp(-x)\n",
    "    elif c==3:\n",
    "        return 1/(1+m.pow(x,2))\n",
    "    elif c==4:\n",
    "        return 1/x\n",
    "    elif c==5:\n",
    "        return m.sqrt(1-(m.pow(m.sin(x),2)/4))\n",
    "    elif c==6:\n",
    "        return 1/(m.pow(m.sin(x),2)+(m.pow(m.cos(x),2)/4))\n",
    "    else:\n",
    "        print(\"Invalid choice.\")\n",
    "        return 0"
   ]
  },
  {
   "cell_type": "code",
   "execution_count": 11,
   "metadata": {},
   "outputs": [],
   "source": [
    "def trap(a,b,c,h):\n",
    "    x=a\n",
    "    r=0\n",
    "    while(x<b):\n",
    "        x+=h\n",
    "        r+=(f(x,c)+f(x-h,c))*0.5*h\n",
    "    return r"
   ]
  },
  {
   "cell_type": "code",
   "execution_count": 12,
   "metadata": {},
   "outputs": [],
   "source": [
    "def simp(a,b,c,h):\n",
    "    r=f(a,c)+f(b,c)\n",
    "    x=a\n",
    "    n=int((b-a)/h)\n",
    "    for i in range(1,n,2):\n",
    "        r+=4*f(a+i*h,c)\n",
    "    for i in range(2,n-1,2):\n",
    "        r+=2*f(a+i*h,c)\n",
    "    r*=h/3\n",
    "    return r"
   ]
  },
  {
   "cell_type": "code",
   "execution_count": 13,
   "metadata": {},
   "outputs": [],
   "source": [
    "def ric(a,b,i):\n",
    "    b+=(b-a)/(m.pow(2,2*i)-1)\n",
    "    return b\n",
    "\n",
    "def romb(a,b,c,t):\n",
    "    m=[[]]\n",
    "    i=0\n",
    "    if i==0:\n",
    "        m[0].append(trap(a,b,c,(b-a)/2))\n",
    "        m[0].append(trap(a,b,c,(b-a)/4))\n",
    "        m.append([0])\n",
    "        m[1].append(ric(m[0][0],m[0][1],1))\n",
    "        i+=1\n",
    "    while(abs(m[i][i]-m[i-1][i-1])>t):\n",
    "        m.append(list(np.zeros(i+1)))\n",
    "        for j in range(0,i+2):\n",
    "            k=len(m[j])\n",
    "            h=(b-a)/np.power(2,k)\n",
    "            if(j==0):\n",
    "                m[j].append(trap(a,b,c,h))\n",
    "            else:\n",
    "                m[j].append(ric(m[j-1][i],m[j-1][i+1],i))\n",
    "        i+=1\n",
    "       \n",
    "    return m[i][i]"
   ]
  },
  {
   "cell_type": "code",
   "execution_count": 14,
   "metadata": {},
   "outputs": [],
   "source": [
    "def inpu():\n",
    "    print(\"Which fuction fo you want to calculate?\")\n",
    "    print(\"1 for sin(x)\")\n",
    "    print(\"2 for e^-x\")\n",
    "    print(\"3 for 1/(1+x^2)\")\n",
    "    print(\"4 for 1/x\")\n",
    "    print(\"5 for (1-0.25*(sin(x))^2)^0.5\")\n",
    "    print(\"6 for 1/(sin(x)^2+0.25*cos(x)^2)\")\n",
    "    fc=int(input(\"Enter your choice:\"))\n",
    "    print(\"Which method do you want to use?\")\n",
    "    print(\"1 for Trapezoidal Rule\")\n",
    "    print(\"2 for Simpson Rule\")\n",
    "    print(\"3 for Romberg Integration\")\n",
    "    mc=int(input(\"Enter your choice:\"))\n",
    "    ll=float(input(\"Enter lower limit of integral:\"))\n",
    "    ul=float(input(\"Enter upper limit of integral:\"))\n",
    "    h=float(input(\"Enter the spacing you desire:\"))\n",
    "    return [fc,mc,ll,ul,h]"
   ]
  },
  {
   "cell_type": "code",
   "execution_count": 15,
   "metadata": {},
   "outputs": [],
   "source": [
    "def main():\n",
    "    inp=inpu()\n",
    "    if inp[1]==1:\n",
    "        print(\"The value of the integral via Trapezoidal Rule is \",trap(inp[2],inp[3],inp[0],inp[4]))\n",
    "    elif inp[1]==2:\n",
    "        print(\"The value of the integral via Simpson Rule is \",simp(inp[2],inp[3],inp[0],inp[4]))\n",
    "    elif inp[1]==3:\n",
    "        t=float(input(\"Enter the tolerance you would like:\"))\n",
    "        print(\"The value of the integral via Romberg Integration is \",romb(inp[2],inp[3],inp[0],t))\n",
    "    return 0"
   ]
  },
  {
   "cell_type": "code",
   "execution_count": 16,
   "metadata": {},
   "outputs": [
    {
     "name": "stdout",
     "output_type": "stream",
     "text": [
      "Which fuction fo you want to calculate?\n",
      "1 for sin(x)\n",
      "2 for e^-x\n",
      "3 for 1/(1+x^2)\n",
      "4 for 1/x\n",
      "5 for (1-0.25*(sin(x))^2)^0.5\n",
      "6 for 1/(sin(x)^2+0.25*cos(x)^2)\n",
      "Which method do you want to use?\n",
      "1 for Trapezoidal Rule\n",
      "2 for Simpson Rule\n",
      "3 for Romberg Integration\n",
      "The value of the integral via Romberg Integration is  3.141496326792878\n"
     ]
    },
    {
     "data": {
      "text/plain": [
       "0"
      ]
     },
     "execution_count": 16,
     "metadata": {},
     "output_type": "execute_result"
    }
   ],
   "source": [
    "main()"
   ]
  }
 ],
 "metadata": {
  "kernelspec": {
   "display_name": "Python 3",
   "language": "python",
   "name": "python3"
  },
  "language_info": {
   "codemirror_mode": {
    "name": "ipython",
    "version": 3
   },
   "file_extension": ".py",
   "mimetype": "text/x-python",
   "name": "python",
   "nbconvert_exporter": "python",
   "pygments_lexer": "ipython3",
   "version": "3.11.9"
  }
 },
 "nbformat": 4,
 "nbformat_minor": 2
}
